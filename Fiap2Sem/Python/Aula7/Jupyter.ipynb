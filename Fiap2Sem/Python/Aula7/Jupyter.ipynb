{
 "cells": [
  {
   "cell_type": "markdown",
   "metadata": {},
   "source": [
    "# Apresentando o Jupyter\n",
    "## Hashtag\n",
    "### Apresentando texto em vairas tramanhos diferentes como voces estão vendo\n",
    "\n"
   ]
  },
  {
   "cell_type": "code",
   "execution_count": 4,
   "metadata": {},
   "outputs": [
    {
     "name": "stdout",
     "output_type": "stream",
     "text": [
      "Bom dia\n"
     ]
    }
   ],
   "source": [
    "print(\"Bom dia\")"
   ]
  },
  {
   "cell_type": "markdown",
   "metadata": {},
   "source": [
    "Alterando texto:\n",
    "* **negrito** ou __negrito__\n",
    "* *itaico* ou _italico_ \n",
    "* `quadrado`\n",
    "\n",
    "1. numerado 1\n",
    "2. numerado 2\n",
    "3. numerado 3"
   ]
  },
  {
   "cell_type": "markdown",
   "metadata": {},
   "source": []
  }
 ],
 "metadata": {
  "kernelspec": {
   "display_name": "Python 3",
   "language": "python",
   "name": "python3"
  },
  "language_info": {
   "codemirror_mode": {
    "name": "ipython",
    "version": 3
   },
   "file_extension": ".py",
   "mimetype": "text/x-python",
   "name": "python",
   "nbconvert_exporter": "python",
   "pygments_lexer": "ipython3",
   "version": "3.12.6"
  }
 },
 "nbformat": 4,
 "nbformat_minor": 2
}
